{
 "cells": [
  {
   "cell_type": "markdown",
   "id": "d69e7de5-34c9-4b9a-9ce1-aacca28a1098",
   "metadata": {},
   "source": [
    "Data from https://www.kaggle.com/datasets/CooperUnion/anime-recommendations-database/data"
   ]
  },
  {
   "cell_type": "code",
   "execution_count": 1,
   "id": "0392630c-861e-4c95-a9c2-ec023dda0935",
   "metadata": {},
   "outputs": [],
   "source": [
    "# !pip install oracledb"
   ]
  },
  {
   "cell_type": "code",
   "execution_count": 14,
   "id": "786cdb80-e01b-46cd-816d-395850e9c144",
   "metadata": {},
   "outputs": [],
   "source": [
    "import oracledb\n",
    "import pandas as pd\n",
    "import numpy as np\n",
    "\n",
    "import seaborn as sns\n",
    "from matplotlib import pyplot as plt\n",
    "%matplotlib inline\n",
    "import json\n",
    "\n",
    "from IPython.display import display\n",
    "from sklearn.metrics import mutual_info_score\n",
    "from sklearn.preprocessing import LabelEncoder\n",
    "from sklearn.tree import DecisionTreeRegressor\n",
    "from sklearn.metrics import mean_squared_error\n",
    "from sklearn.model_selection import train_test_split\n",
    "\n",
    "from sklearn.linear_model import Ridge\n",
    "from sklearn.feature_extraction import DictVectorizer\n",
    "\n",
    "from sklearn.ensemble import RandomForestRegressor\n",
    "import xgboost as xgb\n",
    "import warnings\n",
    "warnings.filterwarnings('ignore')"
   ]
  },
  {
   "cell_type": "code",
   "execution_count": null,
   "id": "8a2eac16-1b37-4035-a529-7f8d794974a4",
   "metadata": {},
   "outputs": [],
   "source": [
    "#Data was uploaded to Oracle Database and fetched to show off SQL skills"
   ]
  },
  {
   "cell_type": "code",
   "execution_count": 2,
   "id": "e8698ca3-3251-4e3b-8d7e-ffbc7c93612d",
   "metadata": {
    "scrolled": true
   },
   "outputs": [],
   "source": [
    "def connect_oracle():\n",
    "    password = 'password'\n",
    "    connection=oracledb.connect(\n",
    "         config_dir=\"/opt/oracle/instantclient_21_12/network/admin\",\n",
    "         user=\"user\",\n",
    "         password=password,\n",
    "         dsn=\"dsn_low\",\n",
    "         wallet_location=\"/opt/oracle/instantclient_21_12/network/admin\",\n",
    "         wallet_password=password)\n",
    "    return connection"
   ]
  },
  {
   "cell_type": "code",
   "execution_count": 3,
   "id": "aee00e20-5db7-4fd7-a294-74c5643926ac",
   "metadata": {
    "scrolled": true
   },
   "outputs": [],
   "source": [
    "def Run_Query_Function(query):\n",
    "    # Create a cursor object\n",
    "    connection = connect_oracle()\n",
    "    cursor = connection.cursor()\n",
    "    \n",
    "    # Execute a query\n",
    "    cursor.execute(query)\n",
    "    \n",
    "    # Fetch the results\n",
    "    results = cursor.fetchall()\n",
    "    \n",
    "    # Get the column names\n",
    "    column_names = [i[0] for i in cursor.description]\n",
    "    \n",
    "    # Create a DataFrame from the results\n",
    "    dataframe = pd.DataFrame(results, columns=column_names)\n",
    "    \n",
    "    # Close the cursor and connection\n",
    "    cursor.close()\n",
    "    connection.close()\n",
    "\n",
    "    return dataframe\n"
   ]
  },
  {
   "cell_type": "code",
   "execution_count": 6,
   "id": "4b63bcec-ba43-42c2-94e3-2fd9fb257930",
   "metadata": {},
   "outputs": [
    {
     "data": {
      "text/html": [
       "<div>\n",
       "<style scoped>\n",
       "    .dataframe tbody tr th:only-of-type {\n",
       "        vertical-align: middle;\n",
       "    }\n",
       "\n",
       "    .dataframe tbody tr th {\n",
       "        vertical-align: top;\n",
       "    }\n",
       "\n",
       "    .dataframe thead th {\n",
       "        text-align: right;\n",
       "    }\n",
       "</style>\n",
       "<table border=\"1\" class=\"dataframe\">\n",
       "  <thead>\n",
       "    <tr style=\"text-align: right;\">\n",
       "      <th></th>\n",
       "      <th>COUNT(DISTINCTA.NAME)</th>\n",
       "    </tr>\n",
       "  </thead>\n",
       "  <tbody>\n",
       "    <tr>\n",
       "      <th>0</th>\n",
       "      <td>12292</td>\n",
       "    </tr>\n",
       "  </tbody>\n",
       "</table>\n",
       "</div>"
      ],
      "text/plain": [
       "   COUNT(DISTINCTA.NAME)\n",
       "0                  12292"
      ]
     },
     "execution_count": 6,
     "metadata": {},
     "output_type": "execute_result"
    }
   ],
   "source": [
    "##Distinct Anime Names\n",
    "\n",
    "Run_Query_Function('''\n",
    "    SELECT COUNT(DISTINCT A.NAME)\n",
    "    FROM ANIME A\n",
    "    ''')"
   ]
  },
  {
   "cell_type": "code",
   "execution_count": 5,
   "id": "aff737a9-ac62-4c09-a137-21111a39ceb4",
   "metadata": {},
   "outputs": [
    {
     "data": {
      "text/html": [
       "<div>\n",
       "<style scoped>\n",
       "    .dataframe tbody tr th:only-of-type {\n",
       "        vertical-align: middle;\n",
       "    }\n",
       "\n",
       "    .dataframe tbody tr th {\n",
       "        vertical-align: top;\n",
       "    }\n",
       "\n",
       "    .dataframe thead th {\n",
       "        text-align: right;\n",
       "    }\n",
       "</style>\n",
       "<table border=\"1\" class=\"dataframe\">\n",
       "  <thead>\n",
       "    <tr style=\"text-align: right;\">\n",
       "      <th></th>\n",
       "      <th>RATING_NUM</th>\n",
       "      <th>COUNT(A.ANIME_ID)</th>\n",
       "    </tr>\n",
       "  </thead>\n",
       "  <tbody>\n",
       "    <tr>\n",
       "      <th>0</th>\n",
       "      <td>2</td>\n",
       "      <td>6</td>\n",
       "    </tr>\n",
       "    <tr>\n",
       "      <th>1</th>\n",
       "      <td>3</td>\n",
       "      <td>79</td>\n",
       "    </tr>\n",
       "    <tr>\n",
       "      <th>2</th>\n",
       "      <td>4</td>\n",
       "      <td>445</td>\n",
       "    </tr>\n",
       "    <tr>\n",
       "      <th>3</th>\n",
       "      <td>5</td>\n",
       "      <td>1400</td>\n",
       "    </tr>\n",
       "    <tr>\n",
       "      <th>4</th>\n",
       "      <td>6</td>\n",
       "      <td>3712</td>\n",
       "    </tr>\n",
       "    <tr>\n",
       "      <th>5</th>\n",
       "      <td>7</td>\n",
       "      <td>4669</td>\n",
       "    </tr>\n",
       "    <tr>\n",
       "      <th>6</th>\n",
       "      <td>8</td>\n",
       "      <td>1616</td>\n",
       "    </tr>\n",
       "    <tr>\n",
       "      <th>7</th>\n",
       "      <td>9</td>\n",
       "      <td>134</td>\n",
       "    </tr>\n",
       "    <tr>\n",
       "      <th>8</th>\n",
       "      <td>10</td>\n",
       "      <td>3</td>\n",
       "    </tr>\n",
       "  </tbody>\n",
       "</table>\n",
       "</div>"
      ],
      "text/plain": [
       "   RATING_NUM  COUNT(A.ANIME_ID)\n",
       "0           2                  6\n",
       "1           3                 79\n",
       "2           4                445\n",
       "3           5               1400\n",
       "4           6               3712\n",
       "5           7               4669\n",
       "6           8               1616\n",
       "7           9                134\n",
       "8          10                  3"
      ]
     },
     "execution_count": 5,
     "metadata": {},
     "output_type": "execute_result"
    }
   ],
   "source": [
    "#Anime Rating Distribution\n",
    "Run_Query_Function('''\n",
    "    SELECT cast(ROUND(A.RATING,0) as int) AS RATING_NUM,COUNT(A.ANIME_ID)\n",
    "    FROM ANIME A\n",
    "    WHERE A.RATING IS NOT NULL\n",
    "    GROUP BY cast(ROUND(A.RATING,0) as int)\n",
    "    ORDER BY cast(ROUND(A.RATING,0) as int)\n",
    "    ''')"
   ]
  },
  {
   "cell_type": "code",
   "execution_count": 8,
   "id": "6fc4da1d-e391-4e66-8f44-aaa2a4e3d13e",
   "metadata": {},
   "outputs": [
    {
     "data": {
      "text/html": [
       "<div>\n",
       "<style scoped>\n",
       "    .dataframe tbody tr th:only-of-type {\n",
       "        vertical-align: middle;\n",
       "    }\n",
       "\n",
       "    .dataframe tbody tr th {\n",
       "        vertical-align: top;\n",
       "    }\n",
       "\n",
       "    .dataframe thead th {\n",
       "        text-align: right;\n",
       "    }\n",
       "</style>\n",
       "<table border=\"1\" class=\"dataframe\">\n",
       "  <thead>\n",
       "    <tr style=\"text-align: right;\">\n",
       "      <th></th>\n",
       "      <th>COUNT(A.ANIME_ID)</th>\n",
       "    </tr>\n",
       "  </thead>\n",
       "  <tbody>\n",
       "    <tr>\n",
       "      <th>0</th>\n",
       "      <td>230</td>\n",
       "    </tr>\n",
       "  </tbody>\n",
       "</table>\n",
       "</div>"
      ],
      "text/plain": [
       "   COUNT(A.ANIME_ID)\n",
       "0                230"
      ]
     },
     "execution_count": 8,
     "metadata": {},
     "output_type": "execute_result"
    }
   ],
   "source": [
    "#Unique Anime Ids where rating is null\n",
    "Run_Query_Function('''\n",
    "    SELECT COUNT(A.ANIME_ID)\n",
    "    FROM ANIME A\n",
    "    WHERE A.RATING IS NULL\n",
    "    ''')"
   ]
  },
  {
   "cell_type": "code",
   "execution_count": 9,
   "id": "9a9e40d0-5cf5-41a5-a456-4d76776a7149",
   "metadata": {},
   "outputs": [
    {
     "data": {
      "text/html": [
       "<div>\n",
       "<style scoped>\n",
       "    .dataframe tbody tr th:only-of-type {\n",
       "        vertical-align: middle;\n",
       "    }\n",
       "\n",
       "    .dataframe tbody tr th {\n",
       "        vertical-align: top;\n",
       "    }\n",
       "\n",
       "    .dataframe thead th {\n",
       "        text-align: right;\n",
       "    }\n",
       "</style>\n",
       "<table border=\"1\" class=\"dataframe\">\n",
       "  <thead>\n",
       "    <tr style=\"text-align: right;\">\n",
       "      <th></th>\n",
       "      <th>TYPE</th>\n",
       "      <th>COUNT(A.ANIME_ID)</th>\n",
       "    </tr>\n",
       "  </thead>\n",
       "  <tbody>\n",
       "    <tr>\n",
       "      <th>0</th>\n",
       "      <td>Movie</td>\n",
       "      <td>2348</td>\n",
       "    </tr>\n",
       "    <tr>\n",
       "      <th>1</th>\n",
       "      <td>Music</td>\n",
       "      <td>488</td>\n",
       "    </tr>\n",
       "    <tr>\n",
       "      <th>2</th>\n",
       "      <td>ONA</td>\n",
       "      <td>659</td>\n",
       "    </tr>\n",
       "    <tr>\n",
       "      <th>3</th>\n",
       "      <td>OVA</td>\n",
       "      <td>3311</td>\n",
       "    </tr>\n",
       "    <tr>\n",
       "      <th>4</th>\n",
       "      <td>Special</td>\n",
       "      <td>1676</td>\n",
       "    </tr>\n",
       "    <tr>\n",
       "      <th>5</th>\n",
       "      <td>TV</td>\n",
       "      <td>3787</td>\n",
       "    </tr>\n",
       "    <tr>\n",
       "      <th>6</th>\n",
       "      <td>None</td>\n",
       "      <td>25</td>\n",
       "    </tr>\n",
       "  </tbody>\n",
       "</table>\n",
       "</div>"
      ],
      "text/plain": [
       "      TYPE  COUNT(A.ANIME_ID)\n",
       "0    Movie               2348\n",
       "1    Music                488\n",
       "2      ONA                659\n",
       "3      OVA               3311\n",
       "4  Special               1676\n",
       "5       TV               3787\n",
       "6     None                 25"
      ]
     },
     "execution_count": 9,
     "metadata": {},
     "output_type": "execute_result"
    }
   ],
   "source": [
    "#Unique Anime types and their distribution\n",
    "Run_Query_Function('''\n",
    "    SELECT A.TYPE,COUNT(A.ANIME_ID)\n",
    "    FROM ANIME A\n",
    "    GROUP BY A.TYPE\n",
    "    ORDER BY A.TYPE\n",
    " ''')"
   ]
  },
  {
   "cell_type": "code",
   "execution_count": 44,
   "id": "53718a57-4534-421f-9a02-1eaf377e098f",
   "metadata": {
    "scrolled": true
   },
   "outputs": [
    {
     "data": {
      "text/html": [
       "<div>\n",
       "<style scoped>\n",
       "    .dataframe tbody tr th:only-of-type {\n",
       "        vertical-align: middle;\n",
       "    }\n",
       "\n",
       "    .dataframe tbody tr th {\n",
       "        vertical-align: top;\n",
       "    }\n",
       "\n",
       "    .dataframe thead th {\n",
       "        text-align: right;\n",
       "    }\n",
       "</style>\n",
       "<table border=\"1\" class=\"dataframe\">\n",
       "  <thead>\n",
       "    <tr style=\"text-align: right;\">\n",
       "      <th></th>\n",
       "      <th>COUNT(A.ANIME_ID)</th>\n",
       "    </tr>\n",
       "  </thead>\n",
       "  <tbody>\n",
       "    <tr>\n",
       "      <th>0</th>\n",
       "      <td>947</td>\n",
       "    </tr>\n",
       "  </tbody>\n",
       "</table>\n",
       "</div>"
      ],
      "text/plain": [
       "   COUNT(A.ANIME_ID)\n",
       "0                947"
      ]
     },
     "execution_count": 44,
     "metadata": {},
     "output_type": "execute_result"
    }
   ],
   "source": [
    "#mature Anime\n",
    "Run_Query_Function('''\n",
    "    SELECT COUNT(A.ANIME_ID)\n",
    "    FROM ANIME A\n",
    "    WHERE LOWER(A.GENRE) LIKE 'hentai%'\n",
    " ''')"
   ]
  },
  {
   "cell_type": "code",
   "execution_count": 10,
   "id": "d0fd1ac4-d5f8-44a5-9d54-2880d0f87c7f",
   "metadata": {},
   "outputs": [],
   "source": [
    "Anime_Ratings_Data = Run_Query_Function('''\n",
    "    SELECT A.ANIME_ID AS ANIME_ANIME_ID, \n",
    "        A.NAME, \n",
    "        A.GENRE, \n",
    "        A.TYPE, \n",
    "        A.EPISODES, \n",
    "        A.RATING AS ANIME_RATING, \n",
    "        A.MEMBERS\n",
    "    FROM ANIME A\n",
    "    WHERE A.RATING IS NOT NULL\n",
    "    AND LOWER(A.GENRE) NOT LIKE 'hentai%'\n",
    "    AND  A.TYPE IS NOT NULL\n",
    "    ''')"
   ]
  },
  {
   "cell_type": "code",
   "execution_count": 11,
   "id": "c2f6a694-6f03-4f47-8021-d7294f2d7a54",
   "metadata": {},
   "outputs": [
    {
     "data": {
      "text/plain": [
       "Index(['ANIME_ANIME_ID', 'NAME', 'GENRE', 'TYPE', 'EPISODES', 'ANIME_RATING',\n",
       "       'MEMBERS'],\n",
       "      dtype='object')"
      ]
     },
     "execution_count": 11,
     "metadata": {},
     "output_type": "execute_result"
    }
   ],
   "source": [
    "Anime_Ratings_Data.columns"
   ]
  },
  {
   "cell_type": "code",
   "execution_count": 13,
   "id": "7ce40864-1be6-452c-b8cf-ea90de0a4ecb",
   "metadata": {},
   "outputs": [
    {
     "name": "stdout",
     "output_type": "stream",
     "text": [
      "Number of unique anime: 11077\n",
      "--------------------\n"
     ]
    }
   ],
   "source": [
    "n_anime = len(Anime_Ratings_Data.ANIME_ANIME_ID.unique())\n",
    "print(\"Number of unique anime:\", n_anime)\n",
    "print(\"--------------------\")"
   ]
  },
  {
   "cell_type": "code",
   "execution_count": 76,
   "id": "5232ff24-3972-4c0d-8214-ebce79a869fa",
   "metadata": {},
   "outputs": [],
   "source": [
    "# Anime_Ratings_Data.to_csv(\"Anime_Ratings_Data.csv\")"
   ]
  },
  {
   "cell_type": "code",
   "execution_count": 30,
   "id": "c9bf77f8-04be-496f-9908-9dc2948d0cad",
   "metadata": {},
   "outputs": [],
   "source": [
    "df = Anime_Ratings_Data"
   ]
  },
  {
   "cell_type": "code",
   "execution_count": 31,
   "id": "f04d7b82-77c2-411b-9e6d-7fd5b6d83ff6",
   "metadata": {},
   "outputs": [
    {
     "name": "stdout",
     "output_type": "stream",
     "text": [
      "11077\n"
     ]
    }
   ],
   "source": [
    "print(len(df))"
   ]
  },
  {
   "cell_type": "code",
   "execution_count": 32,
   "id": "b8eef3ff-b795-45ed-b72b-1b25f3f7873b",
   "metadata": {},
   "outputs": [
    {
     "data": {
      "text/html": [
       "<div>\n",
       "<style scoped>\n",
       "    .dataframe tbody tr th:only-of-type {\n",
       "        vertical-align: middle;\n",
       "    }\n",
       "\n",
       "    .dataframe tbody tr th {\n",
       "        vertical-align: top;\n",
       "    }\n",
       "\n",
       "    .dataframe thead th {\n",
       "        text-align: right;\n",
       "    }\n",
       "</style>\n",
       "<table border=\"1\" class=\"dataframe\">\n",
       "  <thead>\n",
       "    <tr style=\"text-align: right;\">\n",
       "      <th></th>\n",
       "      <th>0</th>\n",
       "      <th>1</th>\n",
       "      <th>2</th>\n",
       "      <th>3</th>\n",
       "      <th>4</th>\n",
       "    </tr>\n",
       "  </thead>\n",
       "  <tbody>\n",
       "    <tr>\n",
       "      <th>ANIME_ANIME_ID</th>\n",
       "      <td>22117</td>\n",
       "      <td>27887</td>\n",
       "      <td>4943</td>\n",
       "      <td>14117</td>\n",
       "      <td>2964</td>\n",
       "    </tr>\n",
       "    <tr>\n",
       "      <th>NAME</th>\n",
       "      <td>Witch Craft Works OVA</td>\n",
       "      <td>Yama no Susume Second Season Specials</td>\n",
       "      <td>Yousei Florence</td>\n",
       "      <td>Blood-C: Special Edition</td>\n",
       "      <td>Blue Drop: Tenshi-tachi no Gikyoku</td>\n",
       "    </tr>\n",
       "    <tr>\n",
       "      <th>GENRE</th>\n",
       "      <td>Action, Fantasy, Seinen, Supernatural</td>\n",
       "      <td>Comedy, Slice of Life</td>\n",
       "      <td>Adventure, Fantasy, Music</td>\n",
       "      <td>Action, Horror, School, Supernatural, Vampire</td>\n",
       "      <td>Drama, Sci-Fi, Shoujo Ai</td>\n",
       "    </tr>\n",
       "    <tr>\n",
       "      <th>TYPE</th>\n",
       "      <td>OVA</td>\n",
       "      <td>Special</td>\n",
       "      <td>Movie</td>\n",
       "      <td>Special</td>\n",
       "      <td>TV</td>\n",
       "    </tr>\n",
       "    <tr>\n",
       "      <th>EPISODES</th>\n",
       "      <td>1</td>\n",
       "      <td>2</td>\n",
       "      <td>1</td>\n",
       "      <td>2</td>\n",
       "      <td>13</td>\n",
       "    </tr>\n",
       "    <tr>\n",
       "      <th>ANIME_RATING</th>\n",
       "      <td>6.89</td>\n",
       "      <td>6.89</td>\n",
       "      <td>6.89</td>\n",
       "      <td>6.88</td>\n",
       "      <td>6.88</td>\n",
       "    </tr>\n",
       "    <tr>\n",
       "      <th>MEMBERS</th>\n",
       "      <td>13727</td>\n",
       "      <td>2939</td>\n",
       "      <td>891</td>\n",
       "      <td>6993</td>\n",
       "      <td>19968</td>\n",
       "    </tr>\n",
       "  </tbody>\n",
       "</table>\n",
       "</div>"
      ],
      "text/plain": [
       "                                                    0  \\\n",
       "ANIME_ANIME_ID                                  22117   \n",
       "NAME                            Witch Craft Works OVA   \n",
       "GENRE           Action, Fantasy, Seinen, Supernatural   \n",
       "TYPE                                              OVA   \n",
       "EPISODES                                            1   \n",
       "ANIME_RATING                                     6.89   \n",
       "MEMBERS                                         13727   \n",
       "\n",
       "                                                    1  \\\n",
       "ANIME_ANIME_ID                                  27887   \n",
       "NAME            Yama no Susume Second Season Specials   \n",
       "GENRE                           Comedy, Slice of Life   \n",
       "TYPE                                          Special   \n",
       "EPISODES                                            2   \n",
       "ANIME_RATING                                     6.89   \n",
       "MEMBERS                                          2939   \n",
       "\n",
       "                                        2  \\\n",
       "ANIME_ANIME_ID                       4943   \n",
       "NAME                      Yousei Florence   \n",
       "GENRE           Adventure, Fantasy, Music   \n",
       "TYPE                                Movie   \n",
       "EPISODES                                1   \n",
       "ANIME_RATING                         6.89   \n",
       "MEMBERS                               891   \n",
       "\n",
       "                                                            3  \\\n",
       "ANIME_ANIME_ID                                          14117   \n",
       "NAME                                 Blood-C: Special Edition   \n",
       "GENRE           Action, Horror, School, Supernatural, Vampire   \n",
       "TYPE                                                  Special   \n",
       "EPISODES                                                    2   \n",
       "ANIME_RATING                                             6.88   \n",
       "MEMBERS                                                  6993   \n",
       "\n",
       "                                                 4  \n",
       "ANIME_ANIME_ID                                2964  \n",
       "NAME            Blue Drop: Tenshi-tachi no Gikyoku  \n",
       "GENRE                     Drama, Sci-Fi, Shoujo Ai  \n",
       "TYPE                                            TV  \n",
       "EPISODES                                        13  \n",
       "ANIME_RATING                                  6.88  \n",
       "MEMBERS                                      19968  "
      ]
     },
     "metadata": {},
     "output_type": "display_data"
    }
   ],
   "source": [
    "display(df.head().T)"
   ]
  },
  {
   "cell_type": "code",
   "execution_count": 33,
   "id": "00ea66d6-c59a-473a-86ac-0ac73f4edba9",
   "metadata": {},
   "outputs": [
    {
     "name": "stdout",
     "output_type": "stream",
     "text": [
      "ANIME_ANIME_ID      int64\n",
      "NAME               object\n",
      "GENRE              object\n",
      "TYPE               object\n",
      "EPISODES           object\n",
      "ANIME_RATING      float64\n",
      "MEMBERS             int64\n",
      "dtype: object\n"
     ]
    }
   ],
   "source": [
    "print(df.dtypes)"
   ]
  },
  {
   "cell_type": "code",
   "execution_count": 34,
   "id": "d1c66820-9ecf-42cb-b91a-b915eae2f8ca",
   "metadata": {},
   "outputs": [
    {
     "name": "stdout",
     "output_type": "stream",
     "text": [
      "Index(['ANIME_ANIME_ID', 'NAME', 'GENRE', 'TYPE', 'EPISODES', 'ANIME_RATING',\n",
      "       'MEMBERS'],\n",
      "      dtype='object')\n"
     ]
    }
   ],
   "source": [
    "print(df.columns)"
   ]
  },
  {
   "cell_type": "code",
   "execution_count": 35,
   "id": "997332aa-cb49-43bd-8c62-8bd820de6eaa",
   "metadata": {},
   "outputs": [],
   "source": [
    "columns_filtered = ['NAME', 'GENRE', 'TYPE', 'EPISODES', 'ANIME_RATING','MEMBERS']"
   ]
  },
  {
   "cell_type": "code",
   "execution_count": 36,
   "id": "50564e8f-a1e0-4005-975c-e931b7bb62a1",
   "metadata": {
    "scrolled": true
   },
   "outputs": [
    {
     "data": {
      "text/html": [
       "<div>\n",
       "<style scoped>\n",
       "    .dataframe tbody tr th:only-of-type {\n",
       "        vertical-align: middle;\n",
       "    }\n",
       "\n",
       "    .dataframe tbody tr th {\n",
       "        vertical-align: top;\n",
       "    }\n",
       "\n",
       "    .dataframe thead th {\n",
       "        text-align: right;\n",
       "    }\n",
       "</style>\n",
       "<table border=\"1\" class=\"dataframe\">\n",
       "  <thead>\n",
       "    <tr style=\"text-align: right;\">\n",
       "      <th></th>\n",
       "      <th>0</th>\n",
       "      <th>1</th>\n",
       "      <th>2</th>\n",
       "      <th>3</th>\n",
       "      <th>4</th>\n",
       "    </tr>\n",
       "  </thead>\n",
       "  <tbody>\n",
       "    <tr>\n",
       "      <th>NAME</th>\n",
       "      <td>Witch Craft Works OVA</td>\n",
       "      <td>Yama no Susume Second Season Specials</td>\n",
       "      <td>Yousei Florence</td>\n",
       "      <td>Blood-C: Special Edition</td>\n",
       "      <td>Blue Drop: Tenshi-tachi no Gikyoku</td>\n",
       "    </tr>\n",
       "    <tr>\n",
       "      <th>GENRE</th>\n",
       "      <td>Action, Fantasy, Seinen, Supernatural</td>\n",
       "      <td>Comedy, Slice of Life</td>\n",
       "      <td>Adventure, Fantasy, Music</td>\n",
       "      <td>Action, Horror, School, Supernatural, Vampire</td>\n",
       "      <td>Drama, Sci-Fi, Shoujo Ai</td>\n",
       "    </tr>\n",
       "    <tr>\n",
       "      <th>TYPE</th>\n",
       "      <td>OVA</td>\n",
       "      <td>Special</td>\n",
       "      <td>Movie</td>\n",
       "      <td>Special</td>\n",
       "      <td>TV</td>\n",
       "    </tr>\n",
       "    <tr>\n",
       "      <th>EPISODES</th>\n",
       "      <td>1</td>\n",
       "      <td>2</td>\n",
       "      <td>1</td>\n",
       "      <td>2</td>\n",
       "      <td>13</td>\n",
       "    </tr>\n",
       "    <tr>\n",
       "      <th>ANIME_RATING</th>\n",
       "      <td>6.89</td>\n",
       "      <td>6.89</td>\n",
       "      <td>6.89</td>\n",
       "      <td>6.88</td>\n",
       "      <td>6.88</td>\n",
       "    </tr>\n",
       "    <tr>\n",
       "      <th>MEMBERS</th>\n",
       "      <td>13727</td>\n",
       "      <td>2939</td>\n",
       "      <td>891</td>\n",
       "      <td>6993</td>\n",
       "      <td>19968</td>\n",
       "    </tr>\n",
       "  </tbody>\n",
       "</table>\n",
       "</div>"
      ],
      "text/plain": [
       "                                                  0  \\\n",
       "NAME                          Witch Craft Works OVA   \n",
       "GENRE         Action, Fantasy, Seinen, Supernatural   \n",
       "TYPE                                            OVA   \n",
       "EPISODES                                          1   \n",
       "ANIME_RATING                                   6.89   \n",
       "MEMBERS                                       13727   \n",
       "\n",
       "                                                  1  \\\n",
       "NAME          Yama no Susume Second Season Specials   \n",
       "GENRE                         Comedy, Slice of Life   \n",
       "TYPE                                        Special   \n",
       "EPISODES                                          2   \n",
       "ANIME_RATING                                   6.89   \n",
       "MEMBERS                                        2939   \n",
       "\n",
       "                                      2  \\\n",
       "NAME                    Yousei Florence   \n",
       "GENRE         Adventure, Fantasy, Music   \n",
       "TYPE                              Movie   \n",
       "EPISODES                              1   \n",
       "ANIME_RATING                       6.89   \n",
       "MEMBERS                             891   \n",
       "\n",
       "                                                          3  \\\n",
       "NAME                               Blood-C: Special Edition   \n",
       "GENRE         Action, Horror, School, Supernatural, Vampire   \n",
       "TYPE                                                Special   \n",
       "EPISODES                                                  2   \n",
       "ANIME_RATING                                           6.88   \n",
       "MEMBERS                                                6993   \n",
       "\n",
       "                                               4  \n",
       "NAME          Blue Drop: Tenshi-tachi no Gikyoku  \n",
       "GENRE                   Drama, Sci-Fi, Shoujo Ai  \n",
       "TYPE                                          TV  \n",
       "EPISODES                                      13  \n",
       "ANIME_RATING                                6.88  \n",
       "MEMBERS                                    19968  "
      ]
     },
     "metadata": {},
     "output_type": "display_data"
    }
   ],
   "source": [
    "df = df[columns_filtered]\n",
    "display(df.head().T)"
   ]
  },
  {
   "cell_type": "markdown",
   "id": "35a0ef76-82c6-4fb4-a64a-12eb579dccb9",
   "metadata": {},
   "source": [
    "## Data Cleaning"
   ]
  },
  {
   "cell_type": "code",
   "execution_count": 37,
   "id": "36abfda6-9800-4f97-a720-689a088bac00",
   "metadata": {},
   "outputs": [],
   "source": [
    "df.columns = df.columns.str.lower().str.replace(' ', '_')\n",
    "\n",
    "string_columns = list(df.dtypes[df.dtypes == 'object'].index)\n",
    "\n",
    "for col in string_columns:\n",
    "    df[col] = df[col].str.lower().str.replace(' ', '_')"
   ]
  },
  {
   "cell_type": "code",
   "execution_count": 38,
   "id": "cce5b7f3-d4a9-4f57-98a0-5984c009b1f8",
   "metadata": {
    "scrolled": true
   },
   "outputs": [
    {
     "data": {
      "text/html": [
       "<div>\n",
       "<style scoped>\n",
       "    .dataframe tbody tr th:only-of-type {\n",
       "        vertical-align: middle;\n",
       "    }\n",
       "\n",
       "    .dataframe tbody tr th {\n",
       "        vertical-align: top;\n",
       "    }\n",
       "\n",
       "    .dataframe thead th {\n",
       "        text-align: right;\n",
       "    }\n",
       "</style>\n",
       "<table border=\"1\" class=\"dataframe\">\n",
       "  <thead>\n",
       "    <tr style=\"text-align: right;\">\n",
       "      <th></th>\n",
       "      <th>0</th>\n",
       "      <th>1</th>\n",
       "      <th>2</th>\n",
       "      <th>3</th>\n",
       "      <th>4</th>\n",
       "    </tr>\n",
       "  </thead>\n",
       "  <tbody>\n",
       "    <tr>\n",
       "      <th>name</th>\n",
       "      <td>witch_craft_works_ova</td>\n",
       "      <td>yama_no_susume_second_season_specials</td>\n",
       "      <td>yousei_florence</td>\n",
       "      <td>blood-c:_special_edition</td>\n",
       "      <td>blue_drop:_tenshi-tachi_no_gikyoku</td>\n",
       "    </tr>\n",
       "    <tr>\n",
       "      <th>genre</th>\n",
       "      <td>action,_fantasy,_seinen,_supernatural</td>\n",
       "      <td>comedy,_slice_of_life</td>\n",
       "      <td>adventure,_fantasy,_music</td>\n",
       "      <td>action,_horror,_school,_supernatural,_vampire</td>\n",
       "      <td>drama,_sci-fi,_shoujo_ai</td>\n",
       "    </tr>\n",
       "    <tr>\n",
       "      <th>type</th>\n",
       "      <td>ova</td>\n",
       "      <td>special</td>\n",
       "      <td>movie</td>\n",
       "      <td>special</td>\n",
       "      <td>tv</td>\n",
       "    </tr>\n",
       "    <tr>\n",
       "      <th>episodes</th>\n",
       "      <td>1</td>\n",
       "      <td>2</td>\n",
       "      <td>1</td>\n",
       "      <td>2</td>\n",
       "      <td>13</td>\n",
       "    </tr>\n",
       "    <tr>\n",
       "      <th>anime_rating</th>\n",
       "      <td>6.89</td>\n",
       "      <td>6.89</td>\n",
       "      <td>6.89</td>\n",
       "      <td>6.88</td>\n",
       "      <td>6.88</td>\n",
       "    </tr>\n",
       "    <tr>\n",
       "      <th>members</th>\n",
       "      <td>13727</td>\n",
       "      <td>2939</td>\n",
       "      <td>891</td>\n",
       "      <td>6993</td>\n",
       "      <td>19968</td>\n",
       "    </tr>\n",
       "  </tbody>\n",
       "</table>\n",
       "</div>"
      ],
      "text/plain": [
       "                                                  0  \\\n",
       "name                          witch_craft_works_ova   \n",
       "genre         action,_fantasy,_seinen,_supernatural   \n",
       "type                                            ova   \n",
       "episodes                                          1   \n",
       "anime_rating                                   6.89   \n",
       "members                                       13727   \n",
       "\n",
       "                                                  1  \\\n",
       "name          yama_no_susume_second_season_specials   \n",
       "genre                         comedy,_slice_of_life   \n",
       "type                                        special   \n",
       "episodes                                          2   \n",
       "anime_rating                                   6.89   \n",
       "members                                        2939   \n",
       "\n",
       "                                      2  \\\n",
       "name                    yousei_florence   \n",
       "genre         adventure,_fantasy,_music   \n",
       "type                              movie   \n",
       "episodes                              1   \n",
       "anime_rating                       6.89   \n",
       "members                             891   \n",
       "\n",
       "                                                          3  \\\n",
       "name                               blood-c:_special_edition   \n",
       "genre         action,_horror,_school,_supernatural,_vampire   \n",
       "type                                                special   \n",
       "episodes                                                  2   \n",
       "anime_rating                                           6.88   \n",
       "members                                                6993   \n",
       "\n",
       "                                               4  \n",
       "name          blue_drop:_tenshi-tachi_no_gikyoku  \n",
       "genre                   drama,_sci-fi,_shoujo_ai  \n",
       "type                                          tv  \n",
       "episodes                                      13  \n",
       "anime_rating                                6.88  \n",
       "members                                    19968  "
      ]
     },
     "metadata": {},
     "output_type": "display_data"
    }
   ],
   "source": [
    "display(df.head().T)"
   ]
  },
  {
   "cell_type": "code",
   "execution_count": 39,
   "id": "6ee7d46f-b7bb-4d52-9d18-f772b1aab9f9",
   "metadata": {
    "scrolled": true
   },
   "outputs": [],
   "source": [
    "# Apply the list to to the 'genre' column\n",
    "df['genre_list'] = df['genre'].apply(lambda x: x.split(\",\"))\n",
    "\n",
    "# Convert the 'episodes' column to a numeric type (float)\n",
    "df['episodes'] = df['episodes'].replace('unknown', '0', regex=True).astype(float)"
   ]
  },
  {
   "cell_type": "code",
   "execution_count": 40,
   "id": "3f9579ba-03c6-4041-9c0b-9db3aeb7eb53",
   "metadata": {},
   "outputs": [
    {
     "data": {
      "text/html": [
       "<div>\n",
       "<style scoped>\n",
       "    .dataframe tbody tr th:only-of-type {\n",
       "        vertical-align: middle;\n",
       "    }\n",
       "\n",
       "    .dataframe tbody tr th {\n",
       "        vertical-align: top;\n",
       "    }\n",
       "\n",
       "    .dataframe thead th {\n",
       "        text-align: right;\n",
       "    }\n",
       "</style>\n",
       "<table border=\"1\" class=\"dataframe\">\n",
       "  <thead>\n",
       "    <tr style=\"text-align: right;\">\n",
       "      <th></th>\n",
       "      <th>0</th>\n",
       "      <th>1</th>\n",
       "      <th>2</th>\n",
       "      <th>3</th>\n",
       "      <th>4</th>\n",
       "    </tr>\n",
       "  </thead>\n",
       "  <tbody>\n",
       "    <tr>\n",
       "      <th>name</th>\n",
       "      <td>witch_craft_works_ova</td>\n",
       "      <td>yama_no_susume_second_season_specials</td>\n",
       "      <td>yousei_florence</td>\n",
       "      <td>blood-c:_special_edition</td>\n",
       "      <td>blue_drop:_tenshi-tachi_no_gikyoku</td>\n",
       "    </tr>\n",
       "    <tr>\n",
       "      <th>genre</th>\n",
       "      <td>action,_fantasy,_seinen,_supernatural</td>\n",
       "      <td>comedy,_slice_of_life</td>\n",
       "      <td>adventure,_fantasy,_music</td>\n",
       "      <td>action,_horror,_school,_supernatural,_vampire</td>\n",
       "      <td>drama,_sci-fi,_shoujo_ai</td>\n",
       "    </tr>\n",
       "    <tr>\n",
       "      <th>type</th>\n",
       "      <td>ova</td>\n",
       "      <td>special</td>\n",
       "      <td>movie</td>\n",
       "      <td>special</td>\n",
       "      <td>tv</td>\n",
       "    </tr>\n",
       "    <tr>\n",
       "      <th>episodes</th>\n",
       "      <td>1.0</td>\n",
       "      <td>2.0</td>\n",
       "      <td>1.0</td>\n",
       "      <td>2.0</td>\n",
       "      <td>13.0</td>\n",
       "    </tr>\n",
       "    <tr>\n",
       "      <th>anime_rating</th>\n",
       "      <td>6.89</td>\n",
       "      <td>6.89</td>\n",
       "      <td>6.89</td>\n",
       "      <td>6.88</td>\n",
       "      <td>6.88</td>\n",
       "    </tr>\n",
       "    <tr>\n",
       "      <th>members</th>\n",
       "      <td>13727</td>\n",
       "      <td>2939</td>\n",
       "      <td>891</td>\n",
       "      <td>6993</td>\n",
       "      <td>19968</td>\n",
       "    </tr>\n",
       "    <tr>\n",
       "      <th>genre_list</th>\n",
       "      <td>[action, _fantasy, _seinen, _supernatural]</td>\n",
       "      <td>[comedy, _slice_of_life]</td>\n",
       "      <td>[adventure, _fantasy, _music]</td>\n",
       "      <td>[action, _horror, _school, _supernatural, _vam...</td>\n",
       "      <td>[drama, _sci-fi, _shoujo_ai]</td>\n",
       "    </tr>\n",
       "  </tbody>\n",
       "</table>\n",
       "</div>"
      ],
      "text/plain": [
       "                                                       0  \\\n",
       "name                               witch_craft_works_ova   \n",
       "genre              action,_fantasy,_seinen,_supernatural   \n",
       "type                                                 ova   \n",
       "episodes                                             1.0   \n",
       "anime_rating                                        6.89   \n",
       "members                                            13727   \n",
       "genre_list    [action, _fantasy, _seinen, _supernatural]   \n",
       "\n",
       "                                                  1  \\\n",
       "name          yama_no_susume_second_season_specials   \n",
       "genre                         comedy,_slice_of_life   \n",
       "type                                        special   \n",
       "episodes                                        2.0   \n",
       "anime_rating                                   6.89   \n",
       "members                                        2939   \n",
       "genre_list                 [comedy, _slice_of_life]   \n",
       "\n",
       "                                          2  \\\n",
       "name                        yousei_florence   \n",
       "genre             adventure,_fantasy,_music   \n",
       "type                                  movie   \n",
       "episodes                                1.0   \n",
       "anime_rating                           6.89   \n",
       "members                                 891   \n",
       "genre_list    [adventure, _fantasy, _music]   \n",
       "\n",
       "                                                              3  \\\n",
       "name                                   blood-c:_special_edition   \n",
       "genre             action,_horror,_school,_supernatural,_vampire   \n",
       "type                                                    special   \n",
       "episodes                                                    2.0   \n",
       "anime_rating                                               6.88   \n",
       "members                                                    6993   \n",
       "genre_list    [action, _horror, _school, _supernatural, _vam...   \n",
       "\n",
       "                                               4  \n",
       "name          blue_drop:_tenshi-tachi_no_gikyoku  \n",
       "genre                   drama,_sci-fi,_shoujo_ai  \n",
       "type                                          tv  \n",
       "episodes                                    13.0  \n",
       "anime_rating                                6.88  \n",
       "members                                    19968  \n",
       "genre_list          [drama, _sci-fi, _shoujo_ai]  "
      ]
     },
     "metadata": {},
     "output_type": "display_data"
    }
   ],
   "source": [
    "display(df.head().T)"
   ]
  },
  {
   "cell_type": "code",
   "execution_count": 41,
   "id": "09653860-ed29-4dc4-8a6c-15ad5f27089c",
   "metadata": {},
   "outputs": [],
   "source": [
    "df['members'] = pd.to_numeric(df['members'])\n",
    "df['anime_rating'] = pd.to_numeric(df['anime_rating'])\n",
    "df['episodes'] = pd.to_numeric(df['episodes'])"
   ]
  },
  {
   "cell_type": "code",
   "execution_count": 42,
   "id": "b744b2f7-be99-4410-be12-d59f4a4b0653",
   "metadata": {},
   "outputs": [],
   "source": [
    "# Convert all genres to lowercase to avoid case sensitivity issues\n",
    "df['genre_list'] = df['genre_list'].apply(lambda x: [genre.lower() for genre in x])\n",
    "\n",
    "# Get the unique list of all possible genre\n",
    "all_genres = set(genre for sublist in df['genre_list'] for genre in sublist)\n",
    "\n",
    "# Now create binary columns for each genre\n",
    "for genre in all_genres:\n",
    "    # Create a new column for each genre\n",
    "    df[genre] = df['genre_list'].apply(lambda x: 1 if genre in x else 0)"
   ]
  },
  {
   "cell_type": "code",
   "execution_count": 43,
   "id": "b0c2e117-e255-4272-9b17-3e413ccbf883",
   "metadata": {
    "scrolled": true
   },
   "outputs": [
    {
     "data": {
      "text/html": [
       "<div>\n",
       "<style scoped>\n",
       "    .dataframe tbody tr th:only-of-type {\n",
       "        vertical-align: middle;\n",
       "    }\n",
       "\n",
       "    .dataframe tbody tr th {\n",
       "        vertical-align: top;\n",
       "    }\n",
       "\n",
       "    .dataframe thead th {\n",
       "        text-align: right;\n",
       "    }\n",
       "</style>\n",
       "<table border=\"1\" class=\"dataframe\">\n",
       "  <thead>\n",
       "    <tr style=\"text-align: right;\">\n",
       "      <th></th>\n",
       "      <th>0</th>\n",
       "      <th>1</th>\n",
       "      <th>2</th>\n",
       "      <th>3</th>\n",
       "      <th>4</th>\n",
       "    </tr>\n",
       "  </thead>\n",
       "  <tbody>\n",
       "    <tr>\n",
       "      <th>name</th>\n",
       "      <td>witch_craft_works_ova</td>\n",
       "      <td>yama_no_susume_second_season_specials</td>\n",
       "      <td>yousei_florence</td>\n",
       "      <td>blood-c:_special_edition</td>\n",
       "      <td>blue_drop:_tenshi-tachi_no_gikyoku</td>\n",
       "    </tr>\n",
       "    <tr>\n",
       "      <th>genre</th>\n",
       "      <td>action,_fantasy,_seinen,_supernatural</td>\n",
       "      <td>comedy,_slice_of_life</td>\n",
       "      <td>adventure,_fantasy,_music</td>\n",
       "      <td>action,_horror,_school,_supernatural,_vampire</td>\n",
       "      <td>drama,_sci-fi,_shoujo_ai</td>\n",
       "    </tr>\n",
       "    <tr>\n",
       "      <th>type</th>\n",
       "      <td>ova</td>\n",
       "      <td>special</td>\n",
       "      <td>movie</td>\n",
       "      <td>special</td>\n",
       "      <td>tv</td>\n",
       "    </tr>\n",
       "    <tr>\n",
       "      <th>episodes</th>\n",
       "      <td>1.0</td>\n",
       "      <td>2.0</td>\n",
       "      <td>1.0</td>\n",
       "      <td>2.0</td>\n",
       "      <td>13.0</td>\n",
       "    </tr>\n",
       "    <tr>\n",
       "      <th>anime_rating</th>\n",
       "      <td>6.89</td>\n",
       "      <td>6.89</td>\n",
       "      <td>6.89</td>\n",
       "      <td>6.88</td>\n",
       "      <td>6.88</td>\n",
       "    </tr>\n",
       "    <tr>\n",
       "      <th>...</th>\n",
       "      <td>...</td>\n",
       "      <td>...</td>\n",
       "      <td>...</td>\n",
       "      <td>...</td>\n",
       "      <td>...</td>\n",
       "    </tr>\n",
       "    <tr>\n",
       "      <th>_thriller</th>\n",
       "      <td>0</td>\n",
       "      <td>0</td>\n",
       "      <td>0</td>\n",
       "      <td>0</td>\n",
       "      <td>0</td>\n",
       "    </tr>\n",
       "    <tr>\n",
       "      <th>_yaoi</th>\n",
       "      <td>0</td>\n",
       "      <td>0</td>\n",
       "      <td>0</td>\n",
       "      <td>0</td>\n",
       "      <td>0</td>\n",
       "    </tr>\n",
       "    <tr>\n",
       "      <th>fantasy</th>\n",
       "      <td>0</td>\n",
       "      <td>0</td>\n",
       "      <td>0</td>\n",
       "      <td>0</td>\n",
       "      <td>0</td>\n",
       "    </tr>\n",
       "    <tr>\n",
       "      <th>drama</th>\n",
       "      <td>0</td>\n",
       "      <td>0</td>\n",
       "      <td>0</td>\n",
       "      <td>0</td>\n",
       "      <td>1</td>\n",
       "    </tr>\n",
       "    <tr>\n",
       "      <th>martial_arts</th>\n",
       "      <td>0</td>\n",
       "      <td>0</td>\n",
       "      <td>0</td>\n",
       "      <td>0</td>\n",
       "      <td>0</td>\n",
       "    </tr>\n",
       "  </tbody>\n",
       "</table>\n",
       "<p>88 rows × 5 columns</p>\n",
       "</div>"
      ],
      "text/plain": [
       "                                                  0  \\\n",
       "name                          witch_craft_works_ova   \n",
       "genre         action,_fantasy,_seinen,_supernatural   \n",
       "type                                            ova   \n",
       "episodes                                        1.0   \n",
       "anime_rating                                   6.89   \n",
       "...                                             ...   \n",
       "_thriller                                         0   \n",
       "_yaoi                                             0   \n",
       "fantasy                                           0   \n",
       "drama                                             0   \n",
       "martial_arts                                      0   \n",
       "\n",
       "                                                  1  \\\n",
       "name          yama_no_susume_second_season_specials   \n",
       "genre                         comedy,_slice_of_life   \n",
       "type                                        special   \n",
       "episodes                                        2.0   \n",
       "anime_rating                                   6.89   \n",
       "...                                             ...   \n",
       "_thriller                                         0   \n",
       "_yaoi                                             0   \n",
       "fantasy                                           0   \n",
       "drama                                             0   \n",
       "martial_arts                                      0   \n",
       "\n",
       "                                      2  \\\n",
       "name                    yousei_florence   \n",
       "genre         adventure,_fantasy,_music   \n",
       "type                              movie   \n",
       "episodes                            1.0   \n",
       "anime_rating                       6.89   \n",
       "...                                 ...   \n",
       "_thriller                             0   \n",
       "_yaoi                                 0   \n",
       "fantasy                               0   \n",
       "drama                                 0   \n",
       "martial_arts                          0   \n",
       "\n",
       "                                                          3  \\\n",
       "name                               blood-c:_special_edition   \n",
       "genre         action,_horror,_school,_supernatural,_vampire   \n",
       "type                                                special   \n",
       "episodes                                                2.0   \n",
       "anime_rating                                           6.88   \n",
       "...                                                     ...   \n",
       "_thriller                                                 0   \n",
       "_yaoi                                                     0   \n",
       "fantasy                                                   0   \n",
       "drama                                                     0   \n",
       "martial_arts                                              0   \n",
       "\n",
       "                                               4  \n",
       "name          blue_drop:_tenshi-tachi_no_gikyoku  \n",
       "genre                   drama,_sci-fi,_shoujo_ai  \n",
       "type                                          tv  \n",
       "episodes                                    13.0  \n",
       "anime_rating                                6.88  \n",
       "...                                          ...  \n",
       "_thriller                                      0  \n",
       "_yaoi                                          0  \n",
       "fantasy                                        0  \n",
       "drama                                          1  \n",
       "martial_arts                                   0  \n",
       "\n",
       "[88 rows x 5 columns]"
      ]
     },
     "metadata": {},
     "output_type": "display_data"
    }
   ],
   "source": [
    "display(df.head().T)"
   ]
  },
  {
   "cell_type": "markdown",
   "id": "fd454c3c-81fa-4ede-805e-dd8402a775cb",
   "metadata": {},
   "source": [
    "## Exploratory data analysis"
   ]
  },
  {
   "cell_type": "code",
   "execution_count": 44,
   "id": "f256e3bc-f868-4889-9f2b-bdf931a1c839",
   "metadata": {
    "scrolled": true
   },
   "outputs": [
    {
     "data": {
      "image/png": "[encoded data removed]",
      "text/plain": [
       "<Figure size 600x400 with 1 Axes>"
      ]
     },
     "metadata": {},
     "output_type": "display_data"
    }
   ],
   "source": [
    "plt.figure(figsize=(6, 4))\n",
    "\n",
    "sns.histplot(df.anime_rating.values, bins=10, color='black', alpha=1)\n",
    "plt.ylabel('Frequency')\n",
    "plt.xlabel('rating')\n",
    "plt.title('Distribution of ratings')\n",
    "\n",
    "plt.show()"
   ]
  },
  {
   "cell_type": "code",
   "execution_count": 45,
   "id": "dc86ff94-adba-46e7-8fe7-a2a9a2fbb5aa",
   "metadata": {},
   "outputs": [
    {
     "data": {
      "image/png": "[encoded data removed]",
      "text/plain": [
       "<Figure size 600x400 with 1 Axes>"
      ]
     },
     "metadata": {},
     "output_type": "display_data"
    }
   ],
   "source": [
    "log_rating = np.log1p(df.anime_rating)\n",
    "\n",
    "plt.figure(figsize=(6, 4))\n",
    "\n",
    "sns.histplot(log_rating, bins=10, color='black', alpha=1)\n",
    "plt.ylabel('Frequency')\n",
    "plt.xlabel('Log(rating + 1)')\n",
    "plt.title('Distribution of rating after log tranformation')\n",
    "\n",
    "plt.show()"
   ]
  },
  {
   "cell_type": "code",
   "execution_count": 46,
   "id": "7632c465-214f-4d87-9fc1-48a0d9822cde",
   "metadata": {},
   "outputs": [
    {
     "name": "stdout",
     "output_type": "stream",
     "text": [
      "Series([], dtype: int64)\n"
     ]
    }
   ],
   "source": [
    "print(df.isnull().sum()[df.isnull().sum()>0])"
   ]
  },
  {
   "cell_type": "code",
   "execution_count": 47,
   "id": "af40ed1b-79f2-40bb-9ddc-3934d9660274",
   "metadata": {},
   "outputs": [],
   "source": [
    "df = df.dropna()"
   ]
  },
  {
   "cell_type": "code",
   "execution_count": 48,
   "id": "23995ee9-287e-4663-8742-62be24d13271",
   "metadata": {},
   "outputs": [
    {
     "name": "stdout",
     "output_type": "stream",
     "text": [
      "Series([], dtype: int64)\n"
     ]
    }
   ],
   "source": [
    "print(df.isnull().sum()[df.isnull().sum()>0])"
   ]
  },
  {
   "cell_type": "code",
   "execution_count": 49,
   "id": "fbe7b564-2394-4041-9d31-18607aa56b0f",
   "metadata": {
    "scrolled": true
   },
   "outputs": [
    {
     "name": "stdout",
     "output_type": "stream",
     "text": [
      "name             object\n",
      "genre            object\n",
      "type             object\n",
      "episodes        float64\n",
      "anime_rating    float64\n",
      "                 ...   \n",
      "_thriller         int64\n",
      "_yaoi             int64\n",
      "fantasy           int64\n",
      "drama             int64\n",
      "martial_arts      int64\n",
      "Length: 88, dtype: object\n"
     ]
    }
   ],
   "source": [
    "print(df.dtypes)"
   ]
  },
  {
   "cell_type": "code",
   "execution_count": 50,
   "id": "4b3e7536-b531-4a9b-bbe6-f86b8abe17ca",
   "metadata": {},
   "outputs": [
    {
     "data": {
      "text/plain": [
       "Index(['name', 'genre', 'type', 'episodes', 'anime_rating', 'members',\n",
       "       'genre_list', '_school', '_game', 'school', '_shounen', '_horror',\n",
       "       '_supernatural', '_slice_of_life', '_historical', '_fantasy', 'ecchi',\n",
       "       'slice_of_life', 'historical', '_shoujo_ai', '_romance', 'military',\n",
       "       '_ecchi', '_military', '_shoujo', '_shounen_ai', '_comedy', 'harem',\n",
       "       'yaoi', '_cars', '_demons', 'samurai', '_music', '_kids', 'super_power',\n",
       "       '_yuri', '_dementia', 'comedy', '_seinen', 'dementia', 'game', 'shoujo',\n",
       "       'mystery', '_mystery', '_vampire', 'josei', '_hentai', 'mecha',\n",
       "       '_sports', '_sci-fi', '_magic', '_parody', 'action', 'thriller',\n",
       "       '_super_power', '_police', 'adventure', 'seinen', 'music', 'police',\n",
       "       'space', 'magic', 'demons', '_harem', '_drama', 'cars', 'parody',\n",
       "       'sports', 'kids', '_martial_arts', 'supernatural', '_samurai', 'sci-fi',\n",
       "       'romance', 'psychological', '_space', '_mecha', 'horror', '_adventure',\n",
       "       '_josei', 'vampire', '_psychological', 'shounen', '_thriller', '_yaoi',\n",
       "       'fantasy', 'drama', 'martial_arts'],\n",
       "      dtype='object')"
      ]
     },
     "execution_count": 50,
     "metadata": {},
     "output_type": "execute_result"
    }
   ],
   "source": [
    "df.columns"
   ]
  },
  {
   "cell_type": "markdown",
   "id": "097bdd40-56e7-42fa-864c-f9fc403cf692",
   "metadata": {},
   "source": [
    "## Feature Importance"
   ]
  },
  {
   "cell_type": "code",
   "execution_count": 55,
   "id": "8000f3ed-9079-42eb-8ea2-4f7b2d8a6536",
   "metadata": {},
   "outputs": [],
   "source": [
    "categorical = ['name', 'type', '_school', '_game', 'school', '_shounen', '_horror',\n",
    "       '_supernatural', '_slice_of_life', '_historical', '_fantasy', 'ecchi',\n",
    "       'slice_of_life', 'historical', '_shoujo_ai', '_romance', 'military',\n",
    "       '_ecchi', '_military', '_shoujo', '_shounen_ai', '_comedy', 'harem',\n",
    "       'yaoi', '_cars', '_demons', 'samurai', '_music', '_kids', 'super_power',\n",
    "       '_yuri', '_dementia', 'comedy', '_seinen', 'dementia', 'game', 'shoujo',\n",
    "       'mystery', '_mystery', '_vampire', 'josei', '_hentai', 'mecha',\n",
    "       '_sports', '_sci-fi', '_magic', '_parody', 'action', 'thriller',\n",
    "       '_super_power', '_police', 'adventure', 'seinen', 'music', 'police',\n",
    "       'space', 'magic', 'demons', '_harem', '_drama', 'cars', 'parody',\n",
    "       'sports', 'kids', '_martial_arts', 'supernatural', '_samurai', 'sci-fi',\n",
    "       'romance', 'psychological', '_space', '_mecha', 'horror', '_adventure',\n",
    "       '_josei', 'vampire', '_psychological', 'shounen', '_thriller', '_yaoi',\n",
    "       'fantasy', 'drama', 'martial_arts']\n",
    "numerical = ['episodes', 'members']"
   ]
  },
  {
   "cell_type": "code",
   "execution_count": 56,
   "id": "35c7c631-5f81-496a-ab02-29d4286622fc",
   "metadata": {
    "scrolled": true
   },
   "outputs": [
    {
     "data": {
      "text/html": [
       "<div>\n",
       "<style scoped>\n",
       "    .dataframe tbody tr th:only-of-type {\n",
       "        vertical-align: middle;\n",
       "    }\n",
       "\n",
       "    .dataframe tbody tr th {\n",
       "        vertical-align: top;\n",
       "    }\n",
       "\n",
       "    .dataframe thead th {\n",
       "        text-align: right;\n",
       "    }\n",
       "</style>\n",
       "<table border=\"1\" class=\"dataframe\">\n",
       "  <thead>\n",
       "    <tr style=\"text-align: right;\">\n",
       "      <th></th>\n",
       "      <th>MI</th>\n",
       "    </tr>\n",
       "  </thead>\n",
       "  <tbody>\n",
       "    <tr>\n",
       "      <th>name</th>\n",
       "      <td>5.96</td>\n",
       "    </tr>\n",
       "    <tr>\n",
       "      <th>type</th>\n",
       "      <td>0.22</td>\n",
       "    </tr>\n",
       "    <tr>\n",
       "      <th>_shounen</th>\n",
       "      <td>0.06</td>\n",
       "    </tr>\n",
       "    <tr>\n",
       "      <th>_drama</th>\n",
       "      <td>0.05</td>\n",
       "    </tr>\n",
       "    <tr>\n",
       "      <th>action</th>\n",
       "      <td>0.05</td>\n",
       "    </tr>\n",
       "    <tr>\n",
       "      <th>_romance</th>\n",
       "      <td>0.05</td>\n",
       "    </tr>\n",
       "    <tr>\n",
       "      <th>_fantasy</th>\n",
       "      <td>0.04</td>\n",
       "    </tr>\n",
       "    <tr>\n",
       "      <th>dementia</th>\n",
       "      <td>0.04</td>\n",
       "    </tr>\n",
       "    <tr>\n",
       "      <th>_sci-fi</th>\n",
       "      <td>0.04</td>\n",
       "    </tr>\n",
       "    <tr>\n",
       "      <th>kids</th>\n",
       "      <td>0.04</td>\n",
       "    </tr>\n",
       "  </tbody>\n",
       "</table>\n",
       "</div>"
      ],
      "text/plain": [
       "            MI\n",
       "name      5.96\n",
       "type      0.22\n",
       "_shounen  0.06\n",
       "_drama    0.05\n",
       "action    0.05\n",
       "_romance  0.05\n",
       "_fantasy  0.04\n",
       "dementia  0.04\n",
       "_sci-fi   0.04\n",
       "kids      0.04"
      ]
     },
     "metadata": {},
     "output_type": "display_data"
    },
    {
     "data": {
      "text/html": [
       "<div>\n",
       "<style scoped>\n",
       "    .dataframe tbody tr th:only-of-type {\n",
       "        vertical-align: middle;\n",
       "    }\n",
       "\n",
       "    .dataframe tbody tr th {\n",
       "        vertical-align: top;\n",
       "    }\n",
       "\n",
       "    .dataframe thead th {\n",
       "        text-align: right;\n",
       "    }\n",
       "</style>\n",
       "<table border=\"1\" class=\"dataframe\">\n",
       "  <thead>\n",
       "    <tr style=\"text-align: right;\">\n",
       "      <th></th>\n",
       "      <th>MI</th>\n",
       "    </tr>\n",
       "  </thead>\n",
       "  <tbody>\n",
       "    <tr>\n",
       "      <th>samurai</th>\n",
       "      <td>0.0</td>\n",
       "    </tr>\n",
       "    <tr>\n",
       "      <th>super_power</th>\n",
       "      <td>0.0</td>\n",
       "    </tr>\n",
       "    <tr>\n",
       "      <th>thriller</th>\n",
       "      <td>0.0</td>\n",
       "    </tr>\n",
       "    <tr>\n",
       "      <th>shoujo</th>\n",
       "      <td>0.0</td>\n",
       "    </tr>\n",
       "    <tr>\n",
       "      <th>martial_arts</th>\n",
       "      <td>0.0</td>\n",
       "    </tr>\n",
       "  </tbody>\n",
       "</table>\n",
       "</div>"
      ],
      "text/plain": [
       "               MI\n",
       "samurai       0.0\n",
       "super_power   0.0\n",
       "thriller      0.0\n",
       "shoujo        0.0\n",
       "martial_arts  0.0"
      ]
     },
     "metadata": {},
     "output_type": "display_data"
    }
   ],
   "source": [
    "\n",
    "# Pre-process the categorical columns\n",
    "label_encoders = {}\n",
    "for column in categorical:\n",
    "    le = LabelEncoder()\n",
    "    # Fill NaN with a placeholder string and convert to type str to ensure all data is of the same type\n",
    "    df[column] = df[column].fillna('Unknown').astype(str)\n",
    "    df[column] = le.fit_transform(df[column])\n",
    "    label_encoders[column] = le\n",
    "\n",
    "def calculate_mi(series):\n",
    "    return round(mutual_info_score(series, df.anime_rating), 2)\n",
    "\n",
    "# Now apply the calculate_mi function\n",
    "df_mi = df[categorical].apply(calculate_mi)\n",
    "df_mi = df_mi.sort_values(ascending=False).to_frame(name='MI')\n",
    "\n",
    "display(df_mi.head(10))\n",
    "display(df_mi.tail())\n"
   ]
  },
  {
   "cell_type": "code",
   "execution_count": 57,
   "id": "41043516-ee41-47a7-9039-625aa95abfbb",
   "metadata": {},
   "outputs": [
    {
     "data": {
      "text/html": [
       "<div>\n",
       "<style scoped>\n",
       "    .dataframe tbody tr th:only-of-type {\n",
       "        vertical-align: middle;\n",
       "    }\n",
       "\n",
       "    .dataframe tbody tr th {\n",
       "        vertical-align: top;\n",
       "    }\n",
       "\n",
       "    .dataframe thead th {\n",
       "        text-align: right;\n",
       "    }\n",
       "</style>\n",
       "<table border=\"1\" class=\"dataframe\">\n",
       "  <thead>\n",
       "    <tr style=\"text-align: right;\">\n",
       "      <th></th>\n",
       "      <th>correlation</th>\n",
       "    </tr>\n",
       "  </thead>\n",
       "  <tbody>\n",
       "    <tr>\n",
       "      <th>episodes</th>\n",
       "      <td>0.085299</td>\n",
       "    </tr>\n",
       "    <tr>\n",
       "      <th>members</th>\n",
       "      <td>0.390300</td>\n",
       "    </tr>\n",
       "  </tbody>\n",
       "</table>\n",
       "</div>"
      ],
      "text/plain": [
       "          correlation\n",
       "episodes     0.085299\n",
       "members      0.390300"
      ]
     },
     "execution_count": 57,
     "metadata": {},
     "output_type": "execute_result"
    }
   ],
   "source": [
    "df[numerical].corrwith(df.anime_rating).to_frame('correlation')"
   ]
  },
  {
   "cell_type": "code",
   "execution_count": 58,
   "id": "f29ca78b-3314-4feb-bd12-3732ddca1554",
   "metadata": {},
   "outputs": [
    {
     "data": {
      "text/html": [
       "<div>\n",
       "<style scoped>\n",
       "    .dataframe tbody tr th:only-of-type {\n",
       "        vertical-align: middle;\n",
       "    }\n",
       "\n",
       "    .dataframe tbody tr th {\n",
       "        vertical-align: top;\n",
       "    }\n",
       "\n",
       "    .dataframe thead th {\n",
       "        text-align: right;\n",
       "    }\n",
       "</style>\n",
       "<table border=\"1\" class=\"dataframe\">\n",
       "  <thead>\n",
       "    <tr style=\"text-align: right;\">\n",
       "      <th></th>\n",
       "      <th>episodes</th>\n",
       "      <th>members</th>\n",
       "    </tr>\n",
       "  </thead>\n",
       "  <tbody>\n",
       "    <tr>\n",
       "      <th>episodes</th>\n",
       "      <td>1.000000</td>\n",
       "      <td>0.051056</td>\n",
       "    </tr>\n",
       "    <tr>\n",
       "      <th>members</th>\n",
       "      <td>0.051056</td>\n",
       "      <td>1.000000</td>\n",
       "    </tr>\n",
       "  </tbody>\n",
       "</table>\n",
       "</div>"
      ],
      "text/plain": [
       "          episodes   members\n",
       "episodes  1.000000  0.051056\n",
       "members   0.051056  1.000000"
      ]
     },
     "metadata": {},
     "output_type": "display_data"
    }
   ],
   "source": [
    "display(df[numerical].corr())"
   ]
  },
  {
   "cell_type": "markdown",
   "id": "050ce59d-1b25-4784-b473-bc361abb03a0",
   "metadata": {},
   "source": [
    "### Linear Regression"
   ]
  },
  {
   "cell_type": "code",
   "execution_count": 59,
   "id": "faa1138d-c87f-44e2-8b10-b0641382f03a",
   "metadata": {},
   "outputs": [],
   "source": [
    "df['anime_rating_log'] = np.log1p(df['anime_rating'])\n",
    "df_train_full, df_test = train_test_split(df, test_size=0.2, random_state=1)\n",
    "df_train, df_val = train_test_split(df_train_full, test_size=0.25, random_state=1)\n",
    "y_train = df_train.anime_rating_log.values\n",
    "y_val = df_val.anime_rating_log.values\n",
    "y_test = df_test.anime_rating_log.values\n",
    "\n",
    "del df_train['anime_rating_log']\n",
    "del df_val['anime_rating_log']\n",
    "del df_test['anime_rating_log']\n",
    "\n",
    "del df_train['anime_rating']\n",
    "del df_val['anime_rating']\n",
    "del df_test['anime_rating']\n",
    "\n"
   ]
  },
  {
   "cell_type": "code",
   "execution_count": 60,
   "id": "19594f92-376c-4e46-81b2-98a75d150f9f",
   "metadata": {
    "scrolled": true
   },
   "outputs": [
    {
     "name": "stdout",
     "output_type": "stream",
     "text": [
      "Alpha=0: RMSE=0.1333897087\n",
      "Alpha=0.01: RMSE=0.1333897087\n",
      "Alpha=0.1: RMSE=0.1333897087\n",
      "Alpha=1: RMSE=0.1333897087\n",
      "Alpha=10: RMSE=0.1333897087\n"
     ]
    }
   ],
   "source": [
    "# List of alpha values to try\n",
    "alphas = [0, 0.01, 0.1, 1, 10]\n",
    "# Dictionary to store RMSE scores for each alpha\n",
    "rmse_scores = {}\n",
    "\n",
    "for alpha in alphas:\n",
    "    # Create and fit the Ridge regression model\n",
    "    model = Ridge(alpha=alpha, solver='sag', random_state=42)\n",
    "    train_dict = df_train[categorical + numerical].to_dict(orient='records')\n",
    "    dv = DictVectorizer(sparse=False)\n",
    "    X_train = dv.fit_transform(train_dict)\n",
    "    model.fit(X_train, y_train)\n",
    "    \n",
    "    \n",
    "    test_dict = df_test[categorical + numerical].to_dict(orient='records')\n",
    "    X_test = dv.transform(test_dict)\n",
    "    # Predict on the test set\n",
    "    y_pred = model.predict(X_test)\n",
    "    \n",
    "    # Calculate RMSE and round it to 3 decimal places\n",
    "    rmse = round(np.sqrt(((y_pred - y_test) ** 2).mean()), 10)\n",
    "    \n",
    "    # Store RMSE in the dictionary\n",
    "    rmse_scores[alpha] = rmse\n",
    "\n",
    "# Display the RMSE scores for different alpha values\n",
    "for alpha, rmse in rmse_scores.items():\n",
    "    print(f\"Alpha={alpha}: RMSE={rmse}\")"
   ]
  },
  {
   "cell_type": "markdown",
   "id": "d9372fa4-e999-4f00-af8d-6b9c0b19054e",
   "metadata": {},
   "source": [
    "## Decision Tree"
   ]
  },
  {
   "cell_type": "code",
   "execution_count": 61,
   "id": "c1465ea7-46ff-4e77-911d-455ac279b50e",
   "metadata": {
    "scrolled": true
   },
   "outputs": [],
   "source": [
    "dict_train = df_train[categorical + numerical].to_dict(orient='records')\n",
    "dict_val = df_val[categorical + numerical].to_dict(orient='records')\n",
    "dv = DictVectorizer(sparse=True)\n",
    "\n",
    "X_train = dv.fit_transform(dict_train)\n",
    "X_val = dv.transform(dict_val)"
   ]
  },
  {
   "cell_type": "code",
   "execution_count": 62,
   "id": "2d65222f-33ec-4b7a-8f7b-283bcacb85b7",
   "metadata": {},
   "outputs": [
    {
     "data": {
      "text/html": [
       "<style>#sk-container-id-1 {color: black;}#sk-container-id-1 pre{padding: 0;}#sk-container-id-1 div.sk-toggleable {background-color: white;}#sk-container-id-1 label.sk-toggleable__label {cursor: pointer;display: block;width: 100%;margin-bottom: 0;padding: 0.3em;box-sizing: border-box;text-align: center;}#sk-container-id-1 label.sk-toggleable__label-arrow:before {content: \"▸\";float: left;margin-right: 0.25em;color: #696969;}#sk-container-id-1 label.sk-toggleable__label-arrow:hover:before {color: black;}#sk-container-id-1 div.sk-estimator:hover label.sk-toggleable__label-arrow:before {color: black;}#sk-container-id-1 div.sk-toggleable__content {max-height: 0;max-width: 0;overflow: hidden;text-align: left;background-color: #f0f8ff;}#sk-container-id-1 div.sk-toggleable__content pre {margin: 0.2em;color: black;border-radius: 0.25em;background-color: #f0f8ff;}#sk-container-id-1 input.sk-toggleable__control:checked~div.sk-toggleable__content {max-height: 200px;max-width: 100%;overflow: auto;}#sk-container-id-1 input.sk-toggleable__control:checked~label.sk-toggleable__label-arrow:before {content: \"▾\";}#sk-container-id-1 div.sk-estimator input.sk-toggleable__control:checked~label.sk-toggleable__label {background-color: #d4ebff;}#sk-container-id-1 div.sk-label input.sk-toggleable__control:checked~label.sk-toggleable__label {background-color: #d4ebff;}#sk-container-id-1 input.sk-hidden--visually {border: 0;clip: rect(1px 1px 1px 1px);clip: rect(1px, 1px, 1px, 1px);height: 1px;margin: -1px;overflow: hidden;padding: 0;position: absolute;width: 1px;}#sk-container-id-1 div.sk-estimator {font-family: monospace;background-color: #f0f8ff;border: 1px dotted black;border-radius: 0.25em;box-sizing: border-box;margin-bottom: 0.5em;}#sk-container-id-1 div.sk-estimator:hover {background-color: #d4ebff;}#sk-container-id-1 div.sk-parallel-item::after {content: \"\";width: 100%;border-bottom: 1px solid gray;flex-grow: 1;}#sk-container-id-1 div.sk-label:hover label.sk-toggleable__label {background-color: #d4ebff;}#sk-container-id-1 div.sk-serial::before {content: \"\";position: absolute;border-left: 1px solid gray;box-sizing: border-box;top: 0;bottom: 0;left: 50%;z-index: 0;}#sk-container-id-1 div.sk-serial {display: flex;flex-direction: column;align-items: center;background-color: white;padding-right: 0.2em;padding-left: 0.2em;position: relative;}#sk-container-id-1 div.sk-item {position: relative;z-index: 1;}#sk-container-id-1 div.sk-parallel {display: flex;align-items: stretch;justify-content: center;background-color: white;position: relative;}#sk-container-id-1 div.sk-item::before, #sk-container-id-1 div.sk-parallel-item::before {content: \"\";position: absolute;border-left: 1px solid gray;box-sizing: border-box;top: 0;bottom: 0;left: 50%;z-index: -1;}#sk-container-id-1 div.sk-parallel-item {display: flex;flex-direction: column;z-index: 1;position: relative;background-color: white;}#sk-container-id-1 div.sk-parallel-item:first-child::after {align-self: flex-end;width: 50%;}#sk-container-id-1 div.sk-parallel-item:last-child::after {align-self: flex-start;width: 50%;}#sk-container-id-1 div.sk-parallel-item:only-child::after {width: 0;}#sk-container-id-1 div.sk-dashed-wrapped {border: 1px dashed gray;margin: 0 0.4em 0.5em 0.4em;box-sizing: border-box;padding-bottom: 0.4em;background-color: white;}#sk-container-id-1 div.sk-label label {font-family: monospace;font-weight: bold;display: inline-block;line-height: 1.2em;}#sk-container-id-1 div.sk-label-container {text-align: center;}#sk-container-id-1 div.sk-container {/* jupyter's `normalize.less` sets `[hidden] { display: none; }` but bootstrap.min.css set `[hidden] { display: none !important; }` so we also need the `!important` here to be able to override the default hidden behavior on the sphinx rendered scikit-learn.org. See: https://github.com/scikit-learn/scikit-learn/issues/21755 */display: inline-block !important;position: relative;}#sk-container-id-1 div.sk-text-repr-fallback {display: none;}</style><div id=\"sk-container-id-1\" class=\"sk-top-container\"><div class=\"sk-text-repr-fallback\"><pre>DecisionTreeRegressor()</pre><b>In a Jupyter environment, please rerun this cell to show the HTML representation or trust the notebook. <br />On GitHub, the HTML representation is unable to render, please try loading this page with nbviewer.org.</b></div><div class=\"sk-container\" hidden><div class=\"sk-item\"><div class=\"sk-estimator sk-toggleable\"><input class=\"sk-toggleable__control sk-hidden--visually\" id=\"sk-estimator-id-1\" type=\"checkbox\" checked><label for=\"sk-estimator-id-1\" class=\"sk-toggleable__label sk-toggleable__label-arrow\">DecisionTreeRegressor</label><div class=\"sk-toggleable__content\"><pre>DecisionTreeRegressor()</pre></div></div></div></div></div>"
      ],
      "text/plain": [
       "DecisionTreeRegressor()"
      ]
     },
     "execution_count": 62,
     "metadata": {},
     "output_type": "execute_result"
    }
   ],
   "source": [
    "dt = DecisionTreeRegressor()\n",
    "dt.fit(X_train, y_train)"
   ]
  },
  {
   "cell_type": "code",
   "execution_count": 63,
   "id": "0fcccc55-83e3-41ff-b3d3-9a8da383868a",
   "metadata": {},
   "outputs": [
    {
     "name": "stdout",
     "output_type": "stream",
     "text": [
      "On Training : 4.717950284575502e-18\n",
      "On Testing : 0.13404160943216534\n"
     ]
    }
   ],
   "source": [
    "y_pred = dt.predict(X_train)\n",
    "print(\"On Training :\" , np.sqrt(mean_squared_error(y_train, y_pred)))\n",
    "y_pred = dt.predict(X_val)\n",
    "print(\"On Testing :\",np.sqrt(mean_squared_error(y_val, y_pred)))"
   ]
  },
  {
   "cell_type": "code",
   "execution_count": 64,
   "id": "97ce676c-4b2e-4485-adae-39f38bcd7b40",
   "metadata": {},
   "outputs": [
    {
     "name": "stdout",
     "output_type": "stream",
     "text": [
      "On Training RMSE: 0.125\n",
      "On Testing RMSE: 0.128\n"
     ]
    }
   ],
   "source": [
    "dt = DecisionTreeRegressor(max_depth=1)\n",
    "dt.fit(X_train, y_train)\n",
    "\n",
    "y_pred = dt.predict(X_train)\n",
    "RMSE = np.sqrt(mean_squared_error(y_train, y_pred))\n",
    "print('On Training RMSE: %.3f' % RMSE)\n",
    "\n",
    "y_pred = dt.predict(X_val)\n",
    "RMSE = np.sqrt(mean_squared_error(y_val, y_pred))\n",
    "print('On Testing RMSE: %.3f' % RMSE)"
   ]
  },
  {
   "cell_type": "markdown",
   "id": "575abf42-8999-4a57-99a3-7ee2f7cb44fe",
   "metadata": {},
   "source": [
    "## Random forest"
   ]
  },
  {
   "cell_type": "code",
   "execution_count": 65,
   "id": "bdde5be5-0e8e-4e27-9940-ccf13114712b",
   "metadata": {},
   "outputs": [
    {
     "name": "stdout",
     "output_type": "stream",
     "text": [
      "0.1039490274749207\n"
     ]
    }
   ],
   "source": [
    "rf = RandomForestRegressor(n_estimators=10, random_state=1,n_jobs=-1)\n",
    "rf.fit(X_train, y_train)\n",
    "y_pred = rf.predict(X_val)\n",
    "print(np.sqrt(mean_squared_error(y_val, y_pred)))"
   ]
  },
  {
   "cell_type": "code",
   "execution_count": 66,
   "id": "6c4569e0-c708-497c-aae8-3ec6c4644fe2",
   "metadata": {
    "scrolled": true
   },
   "outputs": [
    {
     "name": "stdout",
     "output_type": "stream",
     "text": [
      "10 -> 0.104\n",
      "20 -> 0.102\n",
      "30 -> 0.101\n",
      "40 -> 0.101\n",
      "50 -> 0.101\n",
      "60 -> 0.101\n",
      "70 -> 0.100\n",
      "80 -> 0.100\n",
      "90 -> 0.100\n",
      "100 -> 0.100\n",
      "110 -> 0.100\n",
      "120 -> 0.100\n",
      "130 -> 0.100\n",
      "140 -> 0.100\n",
      "150 -> 0.100\n",
      "160 -> 0.100\n",
      "170 -> 0.100\n",
      "180 -> 0.100\n",
      "190 -> 0.100\n",
      "200 -> 0.100\n"
     ]
    }
   ],
   "source": [
    "RMSES = []\n",
    "\n",
    "for i in range(10, 201, 10):\n",
    "    rf = RandomForestRegressor(n_estimators=i, random_state=1)\n",
    "    rf.fit(X_train, y_train)\n",
    "    y_pred = rf.predict(X_val)\n",
    "    RMSE = np.sqrt(mean_squared_error(y_val, y_pred))\n",
    "    print('%s -> %.3f' % (i, RMSE))\n",
    "    RMSES.append(RMSE)"
   ]
  },
  {
   "cell_type": "markdown",
   "id": "6eb5fe44-76d4-4515-bf1d-4660681d27c1",
   "metadata": {},
   "source": [
    "Tuinnig the `max_depth` parameter:"
   ]
  },
  {
   "cell_type": "code",
   "execution_count": 67,
   "id": "a8211550-21b3-42ec-973d-d8148a98f439",
   "metadata": {
    "scrolled": true
   },
   "outputs": [
    {
     "name": "stdout",
     "output_type": "stream",
     "text": [
      "depth: 40\n",
      "10 -> 0.104\n",
      "20 -> 0.102\n",
      "30 -> 0.101\n",
      "40 -> 0.101\n",
      "50 -> 0.101\n",
      "60 -> 0.101\n",
      "70 -> 0.100\n",
      "80 -> 0.100\n",
      "90 -> 0.100\n",
      "100 -> 0.100\n",
      "110 -> 0.100\n",
      "120 -> 0.100\n",
      "130 -> 0.100\n",
      "140 -> 0.100\n",
      "150 -> 0.100\n",
      "160 -> 0.100\n",
      "170 -> 0.100\n",
      "180 -> 0.100\n",
      "190 -> 0.100\n",
      "200 -> 0.100\n",
      "\n",
      "depth: 80\n",
      "10 -> 0.104\n",
      "20 -> 0.102\n",
      "30 -> 0.101\n",
      "40 -> 0.101\n",
      "50 -> 0.101\n",
      "60 -> 0.101\n",
      "70 -> 0.100\n",
      "80 -> 0.100\n",
      "90 -> 0.100\n",
      "100 -> 0.100\n",
      "110 -> 0.100\n",
      "120 -> 0.100\n",
      "130 -> 0.100\n",
      "140 -> 0.100\n",
      "150 -> 0.100\n",
      "160 -> 0.100\n",
      "170 -> 0.100\n",
      "180 -> 0.100\n",
      "190 -> 0.100\n",
      "200 -> 0.100\n",
      "\n",
      "depth: 100\n",
      "10 -> 0.104\n",
      "20 -> 0.102\n",
      "30 -> 0.101\n",
      "40 -> 0.101\n",
      "50 -> 0.101\n",
      "60 -> 0.101\n",
      "70 -> 0.100\n",
      "80 -> 0.100\n",
      "90 -> 0.100\n",
      "100 -> 0.100\n",
      "110 -> 0.100\n",
      "120 -> 0.100\n",
      "130 -> 0.100\n",
      "140 -> 0.100\n",
      "150 -> 0.100\n",
      "160 -> 0.100\n",
      "170 -> 0.100\n",
      "180 -> 0.100\n",
      "190 -> 0.100\n",
      "200 -> 0.100\n",
      "\n"
     ]
    }
   ],
   "source": [
    "all_RMSES = {}\n",
    "\n",
    "for depth in [40, 80, 100]:\n",
    "    print('depth: %s' % depth)\n",
    "    RMSES = []\n",
    "\n",
    "    for i in range(10, 201, 10):\n",
    "        rf = RandomForestRegressor(n_estimators=i, max_depth=depth, random_state=1,n_jobs=-1)\n",
    "        rf.fit(X_train, y_train)\n",
    "        y_pred = rf.predict(X_val)\n",
    "        RMSE =  np.sqrt(mean_squared_error(y_val, y_pred))\n",
    "        print('%s -> %.3f' % (i, RMSE))\n",
    "        RMSES.append(RMSE)\n",
    "    \n",
    "    all_RMSES[depth] = RMSES\n",
    "    print()\n",
    "    "
   ]
  },
  {
   "cell_type": "code",
   "execution_count": 68,
   "id": "3572b5a6-6496-47cb-9824-ca6183b9f2e2",
   "metadata": {},
   "outputs": [
    {
     "data": {
      "text/html": [
       "<style>#sk-container-id-2 {color: black;}#sk-container-id-2 pre{padding: 0;}#sk-container-id-2 div.sk-toggleable {background-color: white;}#sk-container-id-2 label.sk-toggleable__label {cursor: pointer;display: block;width: 100%;margin-bottom: 0;padding: 0.3em;box-sizing: border-box;text-align: center;}#sk-container-id-2 label.sk-toggleable__label-arrow:before {content: \"▸\";float: left;margin-right: 0.25em;color: #696969;}#sk-container-id-2 label.sk-toggleable__label-arrow:hover:before {color: black;}#sk-container-id-2 div.sk-estimator:hover label.sk-toggleable__label-arrow:before {color: black;}#sk-container-id-2 div.sk-toggleable__content {max-height: 0;max-width: 0;overflow: hidden;text-align: left;background-color: #f0f8ff;}#sk-container-id-2 div.sk-toggleable__content pre {margin: 0.2em;color: black;border-radius: 0.25em;background-color: #f0f8ff;}#sk-container-id-2 input.sk-toggleable__control:checked~div.sk-toggleable__content {max-height: 200px;max-width: 100%;overflow: auto;}#sk-container-id-2 input.sk-toggleable__control:checked~label.sk-toggleable__label-arrow:before {content: \"▾\";}#sk-container-id-2 div.sk-estimator input.sk-toggleable__control:checked~label.sk-toggleable__label {background-color: #d4ebff;}#sk-container-id-2 div.sk-label input.sk-toggleable__control:checked~label.sk-toggleable__label {background-color: #d4ebff;}#sk-container-id-2 input.sk-hidden--visually {border: 0;clip: rect(1px 1px 1px 1px);clip: rect(1px, 1px, 1px, 1px);height: 1px;margin: -1px;overflow: hidden;padding: 0;position: absolute;width: 1px;}#sk-container-id-2 div.sk-estimator {font-family: monospace;background-color: #f0f8ff;border: 1px dotted black;border-radius: 0.25em;box-sizing: border-box;margin-bottom: 0.5em;}#sk-container-id-2 div.sk-estimator:hover {background-color: #d4ebff;}#sk-container-id-2 div.sk-parallel-item::after {content: \"\";width: 100%;border-bottom: 1px solid gray;flex-grow: 1;}#sk-container-id-2 div.sk-label:hover label.sk-toggleable__label {background-color: #d4ebff;}#sk-container-id-2 div.sk-serial::before {content: \"\";position: absolute;border-left: 1px solid gray;box-sizing: border-box;top: 0;bottom: 0;left: 50%;z-index: 0;}#sk-container-id-2 div.sk-serial {display: flex;flex-direction: column;align-items: center;background-color: white;padding-right: 0.2em;padding-left: 0.2em;position: relative;}#sk-container-id-2 div.sk-item {position: relative;z-index: 1;}#sk-container-id-2 div.sk-parallel {display: flex;align-items: stretch;justify-content: center;background-color: white;position: relative;}#sk-container-id-2 div.sk-item::before, #sk-container-id-2 div.sk-parallel-item::before {content: \"\";position: absolute;border-left: 1px solid gray;box-sizing: border-box;top: 0;bottom: 0;left: 50%;z-index: -1;}#sk-container-id-2 div.sk-parallel-item {display: flex;flex-direction: column;z-index: 1;position: relative;background-color: white;}#sk-container-id-2 div.sk-parallel-item:first-child::after {align-self: flex-end;width: 50%;}#sk-container-id-2 div.sk-parallel-item:last-child::after {align-self: flex-start;width: 50%;}#sk-container-id-2 div.sk-parallel-item:only-child::after {width: 0;}#sk-container-id-2 div.sk-dashed-wrapped {border: 1px dashed gray;margin: 0 0.4em 0.5em 0.4em;box-sizing: border-box;padding-bottom: 0.4em;background-color: white;}#sk-container-id-2 div.sk-label label {font-family: monospace;font-weight: bold;display: inline-block;line-height: 1.2em;}#sk-container-id-2 div.sk-label-container {text-align: center;}#sk-container-id-2 div.sk-container {/* jupyter's `normalize.less` sets `[hidden] { display: none; }` but bootstrap.min.css set `[hidden] { display: none !important; }` so we also need the `!important` here to be able to override the default hidden behavior on the sphinx rendered scikit-learn.org. See: https://github.com/scikit-learn/scikit-learn/issues/21755 */display: inline-block !important;position: relative;}#sk-container-id-2 div.sk-text-repr-fallback {display: none;}</style><div id=\"sk-container-id-2\" class=\"sk-top-container\"><div class=\"sk-text-repr-fallback\"><pre>RandomForestRegressor(max_depth=40, n_estimators=80, n_jobs=-1, random_state=1)</pre><b>In a Jupyter environment, please rerun this cell to show the HTML representation or trust the notebook. <br />On GitHub, the HTML representation is unable to render, please try loading this page with nbviewer.org.</b></div><div class=\"sk-container\" hidden><div class=\"sk-item\"><div class=\"sk-estimator sk-toggleable\"><input class=\"sk-toggleable__control sk-hidden--visually\" id=\"sk-estimator-id-2\" type=\"checkbox\" checked><label for=\"sk-estimator-id-2\" class=\"sk-toggleable__label sk-toggleable__label-arrow\">RandomForestRegressor</label><div class=\"sk-toggleable__content\"><pre>RandomForestRegressor(max_depth=40, n_estimators=80, n_jobs=-1, random_state=1)</pre></div></div></div></div></div>"
      ],
      "text/plain": [
       "RandomForestRegressor(max_depth=40, n_estimators=80, n_jobs=-1, random_state=1)"
      ]
     },
     "execution_count": 68,
     "metadata": {},
     "output_type": "execute_result"
    }
   ],
   "source": [
    "rf = RandomForestRegressor(n_estimators=80 , max_depth=40, random_state=1,n_jobs=-1)\n",
    "rf.fit(X_train, y_train)"
   ]
  },
  {
   "cell_type": "code",
   "execution_count": 69,
   "id": "b95b4cdb-6a1b-46a5-9fc8-351a372c186d",
   "metadata": {},
   "outputs": [
    {
     "name": "stdout",
     "output_type": "stream",
     "text": [
      "0.100\n"
     ]
    }
   ],
   "source": [
    "y_pred_rf = rf.predict(X_val)\n",
    "RMSE =  np.sqrt(mean_squared_error(y_val, y_pred))\n",
    "print('%.3f' % (RMSE))"
   ]
  },
  {
   "cell_type": "code",
   "execution_count": 70,
   "id": "fd2fc088-ea64-4999-8bf7-2438ea29b22d",
   "metadata": {
    "scrolled": true
   },
   "outputs": [
    {
     "name": "stdout",
     "output_type": "stream",
     "text": [
      "[2.55757625e-03 1.24777304e-03 4.44264468e-03 4.60661446e-03\n",
      " 1.70318926e-03 4.48318195e-03 4.83156136e-03 6.22239225e-03\n",
      " 1.13636405e-03 1.28804645e-03 6.60935040e-03 6.10569849e-03\n",
      " 4.65633325e-03 2.78202640e-04 1.14861149e-02 3.22171994e-03\n",
      " 2.08248521e-03 5.22085011e-03 1.90845585e-03 5.55662466e-03\n",
      " 2.19846617e-03 3.07244085e-03 1.89946569e-03 1.92070333e-03\n",
      " 2.45953705e-03 1.64771359e-03 3.16323248e-03 4.65229756e-03\n",
      " 2.22706887e-03 2.38135345e-03 2.11958325e-04 1.07643858e-02\n",
      " 5.39539184e-04 6.30919377e-03 2.64953348e-03 4.36990292e-03\n",
      " 2.35427856e-03 3.55700596e-03 6.13907888e-04 1.02516969e-03\n",
      " 3.02206115e-04 1.38396778e-04 8.40390383e-03 6.64444088e-03\n",
      " 8.35342349e-04 1.16580828e-02 2.26444976e-02 1.30662291e-03\n",
      " 1.47689847e-02 1.07663215e-03 6.57004672e-02 4.88497186e-03\n",
      " 7.48506607e-04 1.63369998e-04 4.84059475e-03 3.59871231e-03\n",
      " 1.04678000e-05 5.04659197e-03 1.00393576e-03 3.19992709e-06\n",
      " 1.26413969e-03 5.22297718e-01 2.43708420e-04 2.18829471e-03\n",
      " 3.17742007e-04 1.13881103e-01 6.12269388e-05 2.01090071e-06\n",
      " 7.98373732e-04 1.27440370e-03 1.30208095e-04 2.39772477e-04\n",
      " 5.68126998e-03 1.03796177e-04 6.96159457e-04 5.68668895e-04\n",
      " 2.29929375e-03 0.00000000e+00 1.42036186e-03 0.00000000e+00\n",
      " 3.08270463e-04 4.57493783e-06 5.45179777e-02 0.00000000e+00\n",
      " 2.58663253e-04]\n",
      "         feature      gain\n",
      "61       members  0.522298\n",
      "65          name  0.113881\n",
      "50      episodes  0.065700\n",
      "82          type  0.054518\n",
      "46      dementia  0.022644\n",
      "..           ...       ...\n",
      "59  martial_arts  0.000003\n",
      "67        police  0.000002\n",
      "77         space  0.000000\n",
      "79   super_power  0.000000\n",
      "83       vampire  0.000000\n",
      "\n",
      "[85 rows x 2 columns]\n"
     ]
    },
    {
     "data": {
      "image/png": "[encoded data removed]",
      "text/plain": [
       "<Figure size 640x480 with 1 Axes>"
      ]
     },
     "metadata": {},
     "output_type": "display_data"
    }
   ],
   "source": [
    "print(rf.feature_importances_)\n",
    "importances = list(zip(dv.feature_names_, rf.feature_importances_))\n",
    "\n",
    "df_importance = pd.DataFrame(importances, columns=['feature', 'gain'])\n",
    "df_importance = df_importance.sort_values(by='gain', ascending=False)\n",
    "print(df_importance)\n",
    "df_importance = df_importance[df_importance.gain > 0.01]\n",
    "num = len(df_importance)\n",
    "plt.barh(range(num), df_importance.gain[::-1])\n",
    "plt.yticks(range(num), df_importance.feature[::-1])\n",
    "\n",
    "plt.show()"
   ]
  },
  {
   "cell_type": "markdown",
   "id": "82011d49-5aab-4bda-8ba7-3f7e242d31ca",
   "metadata": {},
   "source": [
    "## XGBoost"
   ]
  },
  {
   "cell_type": "code",
   "execution_count": 71,
   "id": "33fea228-6c16-4844-950d-9901cdf177f8",
   "metadata": {},
   "outputs": [],
   "source": [
    "cleaned_feature_names = dv.feature_names_"
   ]
  },
  {
   "cell_type": "code",
   "execution_count": 72,
   "id": "d5b8a0b5-bb91-43d6-bef0-9b1e20a9cd0a",
   "metadata": {},
   "outputs": [],
   "source": [
    "dtrain = xgb.DMatrix(X_train, label=y_train, feature_names=cleaned_feature_names)\n",
    "dval = xgb.DMatrix(X_val, label=y_val, feature_names=cleaned_feature_names)"
   ]
  },
  {
   "cell_type": "code",
   "execution_count": 73,
   "id": "9cb62c28-6572-4f68-ad1f-f02df7c17467",
   "metadata": {},
   "outputs": [
    {
     "name": "stdout",
     "output_type": "stream",
     "text": [
      "0.10216752958746898\n"
     ]
    }
   ],
   "source": [
    "xgb_params = {\n",
    "    'eta': 0.3,\n",
    "    'max_depth': 6,\n",
    "    'min_child_weight': 1,\n",
    "\n",
    "    'objective': 'reg:squarederror',\n",
    "    'nthread': 8,\n",
    "    \n",
    "    'seed': 1,\n",
    "    'verbosity': 1,\n",
    "}\n",
    "model = xgb.train(xgb_params, dtrain, num_boost_round=100)\n",
    "y_pred = model.predict(dval)\n",
    "print(np.sqrt(mean_squared_error(y_val, y_pred)))"
   ]
  },
  {
   "cell_type": "code",
   "execution_count": 74,
   "id": "f3756f48-4829-4147-9e39-de9a9a0dd6dc",
   "metadata": {},
   "outputs": [
    {
     "name": "stdout",
     "output_type": "stream",
     "text": [
      "[0]\ttrain-rmse:0.12852\tval-rmse:0.13155\n",
      "[10]\ttrain-rmse:0.09117\tval-rmse:0.10162\n",
      "[20]\ttrain-rmse:0.08458\tval-rmse:0.10040\n",
      "[30]\ttrain-rmse:0.08013\tval-rmse:0.10025\n",
      "[40]\ttrain-rmse:0.07729\tval-rmse:0.10025\n",
      "[50]\ttrain-rmse:0.07455\tval-rmse:0.10080\n",
      "[60]\ttrain-rmse:0.07161\tval-rmse:0.10089\n",
      "[70]\ttrain-rmse:0.06853\tval-rmse:0.10116\n",
      "[80]\ttrain-rmse:0.06426\tval-rmse:0.10202\n",
      "[90]\ttrain-rmse:0.06239\tval-rmse:0.10197\n",
      "[99]\ttrain-rmse:0.06090\tval-rmse:0.10217\n"
     ]
    }
   ],
   "source": [
    "watchlist = [(dtrain, 'train'), (dval, 'val')]\n",
    "xgb_params = {\n",
    "    'eta': 0.3,\n",
    "    'max_depth': 6,\n",
    "    'min_child_weight': 1,\n",
    "\n",
    "    'objective': 'reg:squarederror',\n",
    "    'nthread': 8,\n",
    "    'eval_metric': 'rmse',\n",
    "\n",
    "    'seed': 1,\n",
    "    'verbosity': 1,\n",
    "}\n",
    "model = xgb.train(xgb_params, dtrain,\n",
    "                  num_boost_round=100,\n",
    "                  evals=watchlist, verbose_eval=10)"
   ]
  },
  {
   "cell_type": "code",
   "execution_count": null,
   "id": "cda8871a-a59c-46bb-a596-1cbad2db3eb1",
   "metadata": {},
   "outputs": [],
   "source": []
  }
 ],
 "metadata": {
  "kernelspec": {
   "display_name": "Python 3 (ipykernel)",
   "language": "python",
   "name": "python3"
  },
  "language_info": {
   "codemirror_mode": {
    "name": "ipython",
    "version": 3
   },
   "file_extension": ".py",
   "mimetype": "text/x-python",
   "name": "python",
   "nbconvert_exporter": "python",
   "pygments_lexer": "ipython3",
   "version": "3.10.12"
  }
 },
 "nbformat": 4,
 "nbformat_minor": 5
}
